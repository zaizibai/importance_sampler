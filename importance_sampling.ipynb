{
 "cells": [
  {
   "cell_type": "code",
   "execution_count": 2,
   "metadata": {},
   "outputs": [],
   "source": [
    "## using importance sampling to calculate marginal likelihood for a hyperbolic model in intertemporal choice task\n",
    "## from Vandekerckhove, J., et al. (2015). Model comparison and the principle of parsimony. The Oxford handbook of computational and mathematical psychology. New York, NY, US, Oxford University Press: 300-319."
   ]
  },
  {
   "cell_type": "code",
   "execution_count": 3,
   "metadata": {},
   "outputs": [],
   "source": [
    "import pymc3 as pm\n",
    "import numpy as np\n",
    "import arviz as az\n",
    "import seaborn as sns\n",
    "from scipy import stats\n",
    "from scipy import optimize"
   ]
  },
  {
   "cell_type": "code",
   "execution_count": 4,
   "metadata": {},
   "outputs": [],
   "source": [
    "## simulate data\n",
    "# define stimulus information\n",
    "ss_value = np.random.normal(40,3,80)\n",
    "ll_value = np.copy(ss_value)\n",
    "ll_value[0:20],ll_value[20:40],ll_value[40:60],ll_value[60:80] = ll_value[0:20]*1.1,ll_value[20:40]*1.3,ll_value[40:60]*1.5,ll_value[60:80]*1.7\n",
    "np.random.shuffle(ll_value)\n",
    "ss_time = np.repeat([0,10],40)\n",
    "np.random.shuffle(ss_time)\n",
    "ll_time = np.copy(ss_time)\n",
    "ll_time[0:40],ll_time[40:80]=ll_time[0:40]+10,ll_time[40:80]+20"
   ]
  },
  {
   "cell_type": "code",
   "execution_count": 5,
   "metadata": {},
   "outputs": [],
   "source": [
    "k = 0.04\n",
    "beta = 2"
   ]
  },
  {
   "cell_type": "code",
   "execution_count": 6,
   "metadata": {},
   "outputs": [],
   "source": [
    "def dd_model_rng(k,beta,ll_v,ll_t,ss_v,ss_t):\n",
    "    dsv = ll_value/(1+k*ll_time)-ss_value / (1+k*ss_time)\n",
    "    p_ll = 1/(1+np.exp(-beta*dsv))\n",
    "    choice = np.random.binomial(n=1,p=p_ll)\n",
    "    return choice"
   ]
  },
  {
   "cell_type": "code",
   "execution_count": 7,
   "metadata": {},
   "outputs": [],
   "source": [
    "dd_sim_data = dd_model_rng(k,beta,ll_value,ss_value,ll_time,ss_time)"
   ]
  },
  {
   "cell_type": "code",
   "execution_count": 8,
   "metadata": {},
   "outputs": [],
   "source": [
    "def sigmoid(beta, x):\n",
    "    return 1/ (1 + pm.math.exp(-beta * x))"
   ]
  },
  {
   "cell_type": "code",
   "execution_count": 9,
   "metadata": {},
   "outputs": [
    {
     "name": "stderr",
     "output_type": "stream",
     "text": [
      "C:\\Users\\lenovo\\AppData\\Local\\Temp\\ipykernel_88296\\1715610969.py:11: FutureWarning: In v4.0, pm.sample will return an `arviz.InferenceData` object instead of a `MultiTrace` by default. You can pass return_inferencedata=True or return_inferencedata=False to be safe and silence this warning.\n",
      "  tr = pm.sample()\n",
      "Auto-assigning NUTS sampler...\n",
      "Initializing NUTS using jitter+adapt_diag...\n",
      "Multiprocess sampling (4 chains in 4 jobs)\n",
      "NUTS: [beta_raw, k_raw]\n"
     ]
    },
    {
     "data": {
      "text/html": [
       "\n",
       "    <div>\n",
       "        <style>\n",
       "            /* Turns off some styling */\n",
       "            progress {\n",
       "                /* gets rid of default border in Firefox and Opera. */\n",
       "                border: none;\n",
       "                /* Needs to be in here for Safari polyfill so background images work as expected. */\n",
       "                background-size: auto;\n",
       "            }\n",
       "            .progress-bar-interrupted, .progress-bar-interrupted::-webkit-progress-bar {\n",
       "                background: #F44336;\n",
       "            }\n",
       "        </style>\n",
       "      <progress value='8000' class='' max='8000' style='width:300px; height:20px; vertical-align: middle;'></progress>\n",
       "      100.00% [8000/8000 00:13<00:00 Sampling 4 chains, 4 divergences]\n",
       "    </div>\n",
       "    "
      ],
      "text/plain": [
       "<IPython.core.display.HTML object>"
      ]
     },
     "metadata": {},
     "output_type": "display_data"
    },
    {
     "name": "stderr",
     "output_type": "stream",
     "text": [
      "Sampling 4 chains for 1_000 tune and 1_000 draw iterations (4_000 + 4_000 draws total) took 43 seconds.\n",
      "There were 2 divergences after tuning. Increase `target_accept` or reparameterize.\n",
      "There was 1 divergence after tuning. Increase `target_accept` or reparameterize.\n",
      "There was 1 divergence after tuning. Increase `target_accept` or reparameterize.\n"
     ]
    }
   ],
   "source": [
    "# define pymc3 model\n",
    "with pm.Model() as dd_model:\n",
    "    k_raw = pm.Normal('k_raw',0,1)\n",
    "    beta_raw = pm.Normal('beta_raw',0,1)\n",
    "    k = pm.Deterministic('k',pm.math.exp(k_raw))\n",
    "    beta = pm.Deterministic('beta',pm.math.exp(beta_raw))\n",
    "    sv_ll = pm.Deterministic('sv_ll', ll_value/ (1 + k * ll_time))\n",
    "    sv_ss = pm.Deterministic('sv_ss', ss_value/ (1 + k * ss_time))  \n",
    "    p = pm.Deterministic('p_ll', sigmoid(beta,sv_ll-sv_ss))\n",
    "    y = pm.Bernoulli('y_choice',p = p, observed = dd_sim_data)\n",
    "    tr = pm.sample()"
   ]
  },
  {
   "cell_type": "code",
   "execution_count": 10,
   "metadata": {},
   "outputs": [
    {
     "name": "stderr",
     "output_type": "stream",
     "text": [
      "Got error No model on context stack. trying to find log_likelihood in translation.\n",
      "C:\\ProgramData\\Anaconda3\\envs\\pymc_env\\lib\\site-packages\\arviz\\data\\io_pymc3_3x.py:98: FutureWarning: Using `from_pymc3` without the model will be deprecated in a future release. Not using the model will return less accurate and less useful results. Make sure you use the model argument or call from_pymc3 within a model context.\n",
      "  warnings.warn(\n"
     ]
    }
   ],
   "source": [
    "data = az.convert_to_inference_data(tr)"
   ]
  },
  {
   "cell_type": "code",
   "execution_count": 164,
   "metadata": {},
   "outputs": [],
   "source": [
    "k = np.array(data.posterior['k']).flatten()\n",
    "beta = np.array(data.posterior['beta_raw']).flatten()\n",
    "combine_para = np.array([k,beta])"
   ]
  },
  {
   "cell_type": "code",
   "execution_count": 165,
   "metadata": {},
   "outputs": [],
   "source": [
    "def sigmoid_tran(x,beta=1):\n",
    "    return 1/(1+np.exp(-beta*x))"
   ]
  },
  {
   "cell_type": "code",
   "execution_count": 166,
   "metadata": {},
   "outputs": [],
   "source": [
    "normal_ = stats.norm(0,1)\n",
    "combine_para[1] = sigmoid_tran(combine_para[1],beta = 0.1)"
   ]
  },
  {
   "cell_type": "code",
   "execution_count": 167,
   "metadata": {},
   "outputs": [
    {
     "name": "stderr",
     "output_type": "stream",
     "text": [
      "C:\\ProgramData\\Anaconda3\\envs\\pymc_env\\lib\\site-packages\\seaborn\\distributions.py:2619: FutureWarning: `distplot` is a deprecated function and will be removed in a future version. Please adapt your code to use either `displot` (a figure-level function with similar flexibility) or `histplot` (an axes-level function for histograms).\n",
      "  warnings.warn(msg, FutureWarning)\n"
     ]
    },
    {
     "data": {
      "text/plain": [
       "<AxesSubplot:ylabel='Density'>"
      ]
     },
     "execution_count": 167,
     "metadata": {},
     "output_type": "execute_result"
    },
    {
     "data": {
      "image/png": "[encoded data removed]",
      "text/plain": [
       "<Figure size 432x288 with 1 Axes>"
      ]
     },
     "metadata": {
      "needs_background": "light"
     },
     "output_type": "display_data"
    }
   ],
   "source": [
    "sns.distplot(combine_para[1])"
   ]
  },
  {
   "cell_type": "code",
   "execution_count": 168,
   "metadata": {},
   "outputs": [],
   "source": [
    "## fit parameter posterior with beta distribution\n",
    "## alpha,beta: parameters of beta distribution\n",
    "## pdp: posterior distribution of parameteres\n",
    "def beta_dist(alpha_beta,pdp):\n",
    "    alpha,beta = alpha_beta[0],alpha_beta[1]\n",
    "    beta_ = stats.beta(alpha,beta)\n",
    "    normal_ = stats.norm(0,1)\n",
    "    return -np.sum(np.log(beta_.pdf(pdp)))\n",
    "# fit,using simplex method\n",
    "# According to Alexandrowicz & Gula (2020), simplex has better parameter recovery than quasi-newtwon method.\n",
    "fit_beta = np.zeros([2,2])\n",
    "for index,number in enumerate(combine_para):\n",
    "    llf_init = 0\n",
    "    for n in range(20):\n",
    "        x0 = np.random.uniform(0,1,2)\n",
    "        result = optimize.minimize(fun = beta_dist,x0 = x0,args = number,method='Nelder-Mead')\n",
    "        if result.fun < llf_init:\n",
    "            llf_init = result.fun\n",
    "            fit_beta[index,:] = result.x"
   ]
  },
  {
   "cell_type": "code",
   "execution_count": 169,
   "metadata": {},
   "outputs": [
    {
     "data": {
      "text/plain": [
       "array([[  999.94871298, 23353.20213597],\n",
       "       [  510.37533257,   452.48715348]])"
      ]
     },
     "execution_count": 169,
     "metadata": {},
     "output_type": "execute_result"
    }
   ],
   "source": [
    "fit_beta"
   ]
  },
  {
   "cell_type": "code",
   "execution_count": 304,
   "metadata": {},
   "outputs": [
    {
     "name": "stderr",
     "output_type": "stream",
     "text": [
      "C:\\ProgramData\\Anaconda3\\envs\\pymc_env\\lib\\site-packages\\seaborn\\distributions.py:2619: FutureWarning: `distplot` is a deprecated function and will be removed in a future version. Please adapt your code to use either `displot` (a figure-level function with similar flexibility) or `histplot` (an axes-level function for histograms).\n",
      "  warnings.warn(msg, FutureWarning)\n",
      "C:\\ProgramData\\Anaconda3\\envs\\pymc_env\\lib\\site-packages\\seaborn\\distributions.py:2619: FutureWarning: `distplot` is a deprecated function and will be removed in a future version. Please adapt your code to use either `displot` (a figure-level function with similar flexibility) or `histplot` (an axes-level function for histograms).\n",
      "  warnings.warn(msg, FutureWarning)\n"
     ]
    },
    {
     "data": {
      "text/plain": [
       "<AxesSubplot:ylabel='Density'>"
      ]
     },
     "execution_count": 304,
     "metadata": {},
     "output_type": "execute_result"
    },
    {
     "data": {
      "image/png": "[encoded data removed]",
      "text/plain": [
       "<Figure size 432x288 with 1 Axes>"
      ]
     },
     "metadata": {
      "needs_background": "light"
     },
     "output_type": "display_data"
    }
   ],
   "source": [
    "# show fitted beta distribution\n",
    "sample_num = 25000\n",
    "k_beta = stats.beta(fit_beta[0,0],fit_beta[0,1])\n",
    "beta_beta = stats.beta(fit_beta[1,0], fit_beta[1,1])\n",
    "k_beta_random = k_beta.rvs(400)\n",
    "beta_beta_random = beta_beta.rvs(400)\n",
    "sns.distplot(k_beta_random)\n",
    "sns.distplot(combine_para[0])"
   ]
  },
  {
   "cell_type": "code",
   "execution_count": 305,
   "metadata": {},
   "outputs": [],
   "source": [
    "def inverse_sigmoid(y,beta):\n",
    "    dot_x = np.log(y/(1-y))\n",
    "    x = dot_x/beta\n",
    "    return x"
   ]
  },
  {
   "cell_type": "code",
   "execution_count": 306,
   "metadata": {},
   "outputs": [],
   "source": [
    "## parameter sampled from a beta mixture proposal distribution\n",
    "mixture_p = 0.1\n",
    "theta_k = (1-mixture_p) * k_beta.rvs(sample_num) + mixture_p * np.random.uniform(0,1,sample_num)\n",
    "theta_beta = (1-mixture_p) * beta_beta.rvs(sample_num) + mixture_p * np.random.uniform(0,1,sample_num)\n",
    "theta_beta_trans = inverse_sigmoid(theta_beta,0.1)\n",
    "theta_beta_ture = np.exp(theta_beta_trans)"
   ]
  },
  {
   "cell_type": "code",
   "execution_count": 307,
   "metadata": {},
   "outputs": [],
   "source": [
    "# first thing to calculate is likelihood: p(theta|D)\n",
    "def hyperbolic_lf(k,beta,ll_v,ll_t,ss_v,ss_t,choice):\n",
    "    dsv = ll_value/(1+k*ll_time)-ss_value / (1+k*ss_time)\n",
    "    p_ll = 1/(1+np.exp(-beta*dsv))\n",
    "    lf = p_ll * choice + (1-choice)*(1-p_ll)\n",
    "    return lf"
   ]
  },
  {
   "cell_type": "code",
   "execution_count": 308,
   "metadata": {},
   "outputs": [
    {
     "name": "stderr",
     "output_type": "stream",
     "text": [
      "C:\\Users\\lenovo\\AppData\\Local\\Temp\\ipykernel_88296\\786965592.py:4: RuntimeWarning: overflow encountered in exp\n",
      "  p_ll = 1/(1+np.exp(-beta*dsv))\n"
     ]
    }
   ],
   "source": [
    "lf = hyperbolic_lf(theta_k.reshape([sample_num,1]),theta_beta_ture.reshape([sample_num,1]),ll_value,ss_value,ll_time,ss_time,dd_sim_data)"
   ]
  },
  {
   "cell_type": "code",
   "execution_count": 309,
   "metadata": {},
   "outputs": [],
   "source": [
    "lf = np.prod(lf,axis=1)"
   ]
  },
  {
   "cell_type": "code",
   "execution_count": 310,
   "metadata": {},
   "outputs": [],
   "source": [
    "# second thing to calcualte:prioir probability p(theta|Model)\n",
    "theta_k_prior = np.log(theta_k)\n",
    "theta_beta_prior = theta_beta_trans\n",
    "prior = stats.norm(0,1)"
   ]
  },
  {
   "cell_type": "code",
   "execution_count": 311,
   "metadata": {},
   "outputs": [],
   "source": [
    "prior_prob = prior.pdf(theta_k_prior)*prior.pdf(theta_beta_prior)"
   ]
  },
  {
   "cell_type": "code",
   "execution_count": 312,
   "metadata": {},
   "outputs": [],
   "source": [
    "# third thing to calcualte is proposal probability:g(theta|Model)\n",
    "propo_prob = k_beta.pdf(theta_k)*beta_beta.pdf(theta_beta)"
   ]
  },
  {
   "cell_type": "code",
   "execution_count": 313,
   "metadata": {},
   "outputs": [],
   "source": [
    "## calculate marginal likelihood\n",
    "#concat three probability density\n",
    "concat_prob = np.array([lf,prior_prob,propo_prob])\n",
    "idx = np.unique(np.where(concat_prob == 0)[1])\n",
    "## toss out colmns has 0 value\n",
    "concat_prob_ = np.delete(concat_prob,idx, axis=1)"
   ]
  },
  {
   "cell_type": "code",
   "execution_count": 316,
   "metadata": {},
   "outputs": [],
   "source": [
    "ml = np.log(np.sum(concat_prob_[0] * concat_prob_[1] / concat_prob_[2])/len(concat_prob_))"
   ]
  },
  {
   "cell_type": "code",
   "execution_count": 321,
   "metadata": {},
   "outputs": [
    {
     "name": "stdout",
     "output_type": "stream",
     "text": [
      "log margnial likelihood for hyerbolic model is 687.40\n"
     ]
    }
   ],
   "source": [
    "print('log margnial likelihood for hyerbolic model is {:.2f}'.format(ml))"
   ]
  },
  {
   "cell_type": "code",
   "execution_count": null,
   "metadata": {},
   "outputs": [],
   "source": []
  }
 ],
 "metadata": {
  "kernelspec": {
   "display_name": "Python [conda env:pymc_env]",
   "language": "python",
   "name": "conda-env-pymc_env-py"
  },
  "language_info": {
   "codemirror_mode": {
    "name": "ipython",
    "version": 3
   },
   "file_extension": ".py",
   "mimetype": "text/x-python",
   "name": "python",
   "nbconvert_exporter": "python",
   "pygments_lexer": "ipython3",
   "version": "3.10.2"
  },
  "varInspector": {
   "cols": {
    "lenName": 16,
    "lenType": 16,
    "lenVar": 40
   },
   "kernels_config": {
    "python": {
     "delete_cmd_postfix": "",
     "delete_cmd_prefix": "del ",
     "library": "var_list.py",
     "varRefreshCmd": "print(var_dic_list())"
    },
    "r": {
     "delete_cmd_postfix": ") ",
     "delete_cmd_prefix": "rm(",
     "library": "var_list.r",
     "varRefreshCmd": "cat(var_dic_list()) "
    }
   },
   "types_to_exclude": [
    "module",
    "function",
    "builtin_function_or_method",
    "instance",
    "_Feature"
   ],
   "window_display": false
  }
 },
 "nbformat": 4,
 "nbformat_minor": 4
}
